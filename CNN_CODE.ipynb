{
  "nbformat": 4,
  "nbformat_minor": 0,
  "metadata": {
    "colab": {
      "provenance": [],
      "gpuType": "T4",
      "authorship_tag": "ABX9TyM2ZotsT2M+cqj1TfKBZTkr",
      "include_colab_link": true
    },
    "kernelspec": {
      "name": "python3",
      "display_name": "Python 3"
    },
    "language_info": {
      "name": "python"
    },
    "accelerator": "GPU"
  },
  "cells": [
    {
      "cell_type": "markdown",
      "metadata": {
        "id": "view-in-github",
        "colab_type": "text"
      },
      "source": [
        "<a href=\"https://colab.research.google.com/github/AyaSerageldin/Medical-Symptoms-Analysis/blob/master/CNN_CODE.ipynb\" target=\"_parent\"><img src=\"https://colab.research.google.com/assets/colab-badge.svg\" alt=\"Open In Colab\"/></a>"
      ]
    },
    {
      "cell_type": "code",
      "execution_count": 1,
      "metadata": {
        "colab": {
          "base_uri": "https://localhost:8080/"
        },
        "id": "gu8ampad5Y5Y",
        "outputId": "ab77f9a8-1772-47a7-a4a3-de3aec671dde"
      },
      "outputs": [
        {
          "output_type": "stream",
          "name": "stdout",
          "text": [
            "GPUs available: [PhysicalDevice(name='/physical_device:GPU:0', device_type='GPU')]\n"
          ]
        }
      ],
      "source": [
        "import tensorflow as tf\n",
        "\n",
        "# List physical devices\n",
        "gpus = tf.config.list_physical_devices('GPU')\n",
        "print(\"GPUs available:\", gpus)"
      ]
    },
    {
      "cell_type": "code",
      "source": [
        "import numpy as np\n",
        "import matplotlib.pyplot as plt\n",
        "import os\n",
        "\n",
        "from keras import Sequential\n",
        "from keras.src.applications.vgg16 import VGG16\n",
        "from keras.src.layers import Flatten, Dropout, Dense, BatchNormalization\n",
        "from tensorflow.keras.regularizers import l2\n",
        "from tensorflow.keras.layers import Dropout\n",
        "from tensorflow.keras.callbacks import Callback, EarlyStopping, ReduceLROnPlateau"
      ],
      "metadata": {
        "id": "T1_0X42R5kkH"
      },
      "execution_count": 2,
      "outputs": []
    },
    {
      "cell_type": "code",
      "source": [
        "from google.colab import drive\n",
        "drive.mount('/content/drive')"
      ],
      "metadata": {
        "id": "uru_o0YP5nOv",
        "colab": {
          "base_uri": "https://localhost:8080/"
        },
        "outputId": "f30855ff-febd-4a9d-b782-208d26ad9d32"
      },
      "execution_count": 3,
      "outputs": [
        {
          "output_type": "stream",
          "name": "stdout",
          "text": [
            "Mounted at /content/drive\n"
          ]
        }
      ]
    },
    {
      "cell_type": "code",
      "source": [
        "train_path= '/content/drive/MyDrive/xray_images/chest_xray/train'\n",
        "test_path = '/content/drive/MyDrive/xray_images/chest_xray/test'\n",
        "val_path = '/content/drive/MyDrive/xray_images/chest_xray/val'"
      ],
      "metadata": {
        "id": "j78awkc85qdW"
      },
      "execution_count": 4,
      "outputs": []
    },
    {
      "cell_type": "code",
      "source": [
        "img_height, img_width = 224, 224\n",
        "batch_size = 32\n",
        "\n",
        "# Create an instance of the ImageDataGenerator with augmentation\n",
        "from tensorflow.keras.preprocessing.image import ImageDataGenerator\n",
        "train_datagen = ImageDataGenerator(\n",
        "    rescale=1./255,\n",
        "    rotation_range=10,\n",
        "    width_shift_range=0.1,\n",
        "    height_shift_range=0.1,\n",
        "    shear_range=0.2,\n",
        "    zoom_range=0.1,\n",
        "    #horizontal_flip=True,\n",
        "    fill_mode='nearest'\n",
        ")\n",
        "\n",
        "# train_dataset = tf.keras.preprocessing.image_dataset_from_directory(\n",
        "#  train_path,\n",
        "#   image_size=(img_height, img_width),\n",
        "#   batch_size=batch_size\n",
        "# )\n",
        "\n",
        "train_dataset = train_datagen.flow_from_directory(\n",
        "    train_path,\n",
        "   target_size=(224, 224),\n",
        "   batch_size=batch_size,\n",
        "     class_mode='binary'\n",
        ")\n",
        "\n",
        "test_dataset = tf.keras.preprocessing.image_dataset_from_directory(test_path,\n",
        "                                                                   image_size=(img_height, img_width),\n",
        "                                                                   batch_size=batch_size)\n",
        "\n",
        "val_dataset = tf.keras.preprocessing.image_dataset_from_directory(val_path,\n",
        "                                                                   image_size=(img_height, img_width),\n",
        "                                                                   batch_size=batch_size)"
      ],
      "metadata": {
        "id": "fDlmZbJ65tiW",
        "colab": {
          "base_uri": "https://localhost:8080/"
        },
        "outputId": "0d71a3ab-8747-4691-8dfa-c0e0eec31e93"
      },
      "execution_count": 5,
      "outputs": [
        {
          "output_type": "stream",
          "name": "stdout",
          "text": [
            "Found 5199 images belonging to 2 classes.\n",
            "Found 624 files belonging to 2 classes.\n",
            "Found 16 files belonging to 2 classes.\n"
          ]
        }
      ]
    },
    {
      "cell_type": "code",
      "source": [
        "#VERIFYING DATASETS WERE LOADED CORRECTLY#\n",
        "#class_names = train_dataset.class_names\n",
        "\n",
        "class_names = train_dataset.class_indices\n",
        "print(class_names)"
      ],
      "metadata": {
        "id": "8lnyZTlQ5xMm",
        "colab": {
          "base_uri": "https://localhost:8080/"
        },
        "outputId": "c43eb63a-6ec5-407f-88ae-16bc438b7b48"
      },
      "execution_count": null,
      "outputs": [
        {
          "output_type": "stream",
          "name": "stdout",
          "text": [
            "{'NORMAL': 0, 'PNEUMONIA': 1}\n"
          ]
        }
      ]
    },
    {
      "cell_type": "code",
      "source": [
        "#for images, labels in train_dataset.take(1):  # Take the first batch of images and labels\n",
        "\n",
        "    # 'images' will contain a batch of images\n",
        "    # 'labels' will contain the corresponding labels for those images\n",
        "\n",
        "images, labels = next(train_dataset)\n",
        "print(images.shape)  # Prints the shape of the images tensor\n",
        "print(labels.shape)  # Prints the shape of the labels tensor"
      ],
      "metadata": {
        "id": "J_pOr34y5zoP",
        "colab": {
          "base_uri": "https://localhost:8080/"
        },
        "outputId": "b965b3ca-a8c1-45e6-8403-61e89606f69d"
      },
      "execution_count": null,
      "outputs": [
        {
          "output_type": "stream",
          "name": "stdout",
          "text": [
            "(32, 224, 224, 3)\n",
            "(32,)\n"
          ]
        }
      ]
    },
    {
      "cell_type": "code",
      "source": [
        "def display_images(dataset, num_images=5):\n",
        "    plt.figure(figsize=(10, 10))\n",
        "\n",
        "    for images, labels in dataset.take(1):  # Take one batch from the dataset\n",
        "        for i in range(num_images):\n",
        "            ax = plt.subplot(1, num_images, i + 1)  # Create a subplot\n",
        "            plt.imshow(images[i].numpy().astype(\"uint8\"))  # Convert tensor to NumPy and display\n",
        "            plt.title(f\"Label: {labels[i].numpy()}\")  # Show the label\n",
        "            plt.axis(\"off\")  # Hide the axes\n",
        "\n",
        "plt.show()"
      ],
      "metadata": {
        "id": "Cs4YG4Ab52ah"
      },
      "execution_count": null,
      "outputs": []
    },
    {
      "cell_type": "code",
      "source": [
        "def img_normalisation(image, label):\n",
        "    image = tf.cast(image, tf.float32) / 255\n",
        "    return image, label\n",
        "\n",
        "\n",
        "#train_dataset = train_dataset.map(img_normalisation)\n",
        "test_dataset = test_dataset.map(img_normalisation)\n",
        "val_dataset = val_dataset.map(img_normalisation)\n",
        "\n",
        "# for images, labels in train_dataset.take(1):\n",
        "#     print(images.shape)  # Should print (batch_size, 224, 224, 1)\n",
        "#     print(images.numpy().min(), images.numpy().max())  # Should print values in the range [0, 1]\n",
        "\n",
        "images, labels = next(train_dataset)\n",
        "print(images.shape)  # Prints the shape of the images tensor\n",
        "print(labels.shape)  # Prints the shape of the labels tensor\n"
      ],
      "metadata": {
        "id": "IEXKib1O54Kg",
        "colab": {
          "base_uri": "https://localhost:8080/"
        },
        "outputId": "4932fe7a-9bba-447c-8530-6a197b9895d0"
      },
      "execution_count": 6,
      "outputs": [
        {
          "output_type": "stream",
          "name": "stdout",
          "text": [
            "(32, 224, 224, 3)\n",
            "(32,)\n"
          ]
        }
      ]
    },
    {
      "cell_type": "code",
      "source": [
        "#VGG_MODEL#\n",
        "model = Sequential()\n",
        "#model.add(VGG16(include_top = False, weights = weights, input_shape = (224,224,3)))\n",
        "model.add(VGG16(include_top=False, weights=\"imagenet\", input_shape=(224, 224, 3)))\n",
        "model.add(Flatten())\n",
        "model.add(Dropout(0.5))\n",
        "model.add(Dense(512, activation='relu',kernel_regularizer=l2(0.01)))\n",
        "model.add(Dropout(0.1))\n",
        "model.add(Dense(1, activation = 'sigmoid'))\n",
        "model.compile(loss='binary_crossentropy',\n",
        "              optimizer='sgd',\n",
        "              metrics=['accuracy'])\n",
        "\n"
      ],
      "metadata": {
        "id": "thd6py8M56LH",
        "colab": {
          "base_uri": "https://localhost:8080/"
        },
        "outputId": "5e65cf91-38ec-44aa-f2bd-44562c292397"
      },
      "execution_count": 7,
      "outputs": [
        {
          "output_type": "stream",
          "name": "stdout",
          "text": [
            "Downloading data from https://storage.googleapis.com/tensorflow/keras-applications/vgg16/vgg16_weights_tf_dim_ordering_tf_kernels_notop.h5\n",
            "\u001b[1m58889256/58889256\u001b[0m \u001b[32m━━━━━━━━━━━━━━━━━━━━\u001b[0m\u001b[37m\u001b[0m \u001b[1m0s\u001b[0m 0us/step\n"
          ]
        }
      ]
    },
    {
      "cell_type": "code",
      "source": [
        "# for image_batch, label_batch in train_dataset.take(1):\n",
        "#     print(image_batch.shape)\n",
        "\n",
        "images, labels = next(train_dataset)\n",
        "print(images.shape)"
      ],
      "metadata": {
        "id": "5ZHQeMLq5-Qg",
        "colab": {
          "base_uri": "https://localhost:8080/"
        },
        "outputId": "a23ba943-4c7f-4012-ba3f-2db4ac1ac2a9"
      },
      "execution_count": null,
      "outputs": [
        {
          "output_type": "stream",
          "name": "stdout",
          "text": [
            "(32, 224, 224, 3)\n"
          ]
        }
      ]
    },
    {
      "cell_type": "code",
      "source": [
        "from sklearn.metrics import precision_score, recall_score, f1_score\n",
        "\n",
        "class MetricsCallback(Callback):\n",
        "    def __init__(self, val_data):\n",
        "        super(MetricsCallback, self).__init__()\n",
        "        self.val_data = val_data\n",
        "\n",
        "    def on_epoch_end(self, epoch, logs=None):\n",
        "        val_pred = []\n",
        "        val_true = []\n",
        "\n",
        "        # Go through validation dataset\n",
        "        for x_val, y_val in self.val_data:\n",
        "            y_pred = self.model.predict(x_val)\n",
        "            y_pred = (y_pred > 0.5).astype(int)\n",
        "\n",
        "            val_pred.extend(y_pred)\n",
        "            val_true.extend(y_val)\n",
        "\n",
        "        val_pred = np.array(val_pred).flatten()\n",
        "        val_true = np.array(val_true).flatten()\n",
        "\n",
        "        precision = precision_score(val_true, val_pred, average='binary')\n",
        "        recall = recall_score(val_true, val_pred, average='binary')\n",
        "        f1 = f1_score(val_true, val_pred, average='binary')\n",
        "\n",
        "        print(f'Epoch {epoch + 1} - Precision: {precision:.4f}, Recall: {recall:.4f}, F1-score: {f1:.4f}')"
      ],
      "metadata": {
        "id": "fqEq3O-l6CNw"
      },
      "execution_count": 8,
      "outputs": []
    },
    {
      "cell_type": "code",
      "source": [
        "early_stopping = EarlyStopping(monitor='val_loss', patience=3, restore_best_weights=True)\n",
        "metrics_callback = MetricsCallback(val_dataset)\n",
        "\n",
        "\n",
        "reduce_lr = ReduceLROnPlateau(monitor='val_loss', factor=0.5, patience=3, min_lr=1e-6)\n",
        "\n",
        "\n",
        "\n",
        "callbacks = [early_stopping, metrics_callback,reduce_lr]\n",
        "\n",
        "history = model.fit(\n",
        "    train_dataset,\n",
        "    validation_data=val_dataset,\n",
        "    epochs=10,\n",
        "    callbacks=callbacks  # Specify callbacks as a keyword argument\n",
        ")\n"
      ],
      "metadata": {
        "id": "HNtLeORM6EZg",
        "colab": {
          "base_uri": "https://localhost:8080/"
        },
        "outputId": "3cfa39ce-cbda-4a71-e293-f4fd29574fc1"
      },
      "execution_count": 9,
      "outputs": [
        {
          "output_type": "stream",
          "name": "stdout",
          "text": [
            "Epoch 1/10\n"
          ]
        },
        {
          "output_type": "stream",
          "name": "stderr",
          "text": [
            "/usr/local/lib/python3.10/dist-packages/keras/src/trainers/data_adapters/py_dataset_adapter.py:121: UserWarning: Your `PyDataset` class should call `super().__init__(**kwargs)` in its constructor. `**kwargs` can include `workers`, `use_multiprocessing`, `max_queue_size`. Do not pass these arguments to `fit()`, as they will be ignored.\n",
            "  self._warn_if_super_not_called()\n"
          ]
        },
        {
          "output_type": "stream",
          "name": "stdout",
          "text": [
            "\u001b[1m1/1\u001b[0m \u001b[32m━━━━━━━━━━━━━━━━━━━━\u001b[0m\u001b[37m\u001b[0m \u001b[1m1s\u001b[0m 846ms/step\n",
            "Epoch 1 - Precision: 0.8571, Recall: 0.7500, F1-score: 0.8000\n",
            "\u001b[1m163/163\u001b[0m \u001b[32m━━━━━━━━━━━━━━━━━━━━\u001b[0m\u001b[37m\u001b[0m \u001b[1m741s\u001b[0m 4s/step - accuracy: 0.7126 - loss: 10.5919 - val_accuracy: 0.8125 - val_loss: 9.9674 - learning_rate: 0.0100\n",
            "Epoch 2/10\n",
            "\u001b[1m1/1\u001b[0m \u001b[32m━━━━━━━━━━━━━━━━━━━━\u001b[0m\u001b[37m\u001b[0m \u001b[1m0s\u001b[0m 33ms/step\n",
            "Epoch 2 - Precision: 0.8750, Recall: 0.8750, F1-score: 0.8750\n",
            "\u001b[1m163/163\u001b[0m \u001b[32m━━━━━━━━━━━━━━━━━━━━\u001b[0m\u001b[37m\u001b[0m \u001b[1m163s\u001b[0m 960ms/step - accuracy: 0.8472 - loss: 9.5900 - val_accuracy: 0.8750 - val_loss: 9.1296 - learning_rate: 0.0100\n",
            "Epoch 3/10\n",
            "\u001b[1m1/1\u001b[0m \u001b[32m━━━━━━━━━━━━━━━━━━━━\u001b[0m\u001b[37m\u001b[0m \u001b[1m0s\u001b[0m 36ms/step\n",
            "Epoch 3 - Precision: 0.8889, Recall: 1.0000, F1-score: 0.9412\n",
            "\u001b[1m163/163\u001b[0m \u001b[32m━━━━━━━━━━━━━━━━━━━━\u001b[0m\u001b[37m\u001b[0m \u001b[1m170s\u001b[0m 1s/step - accuracy: 0.9350 - loss: 8.8485 - val_accuracy: 0.9375 - val_loss: 8.4688 - learning_rate: 0.0100\n",
            "Epoch 4/10\n",
            "\u001b[1m1/1\u001b[0m \u001b[32m━━━━━━━━━━━━━━━━━━━━\u001b[0m\u001b[37m\u001b[0m \u001b[1m0s\u001b[0m 51ms/step\n",
            "Epoch 4 - Precision: 0.8000, Recall: 1.0000, F1-score: 0.8889\n",
            "\u001b[1m163/163\u001b[0m \u001b[32m━━━━━━━━━━━━━━━━━━━━\u001b[0m\u001b[37m\u001b[0m \u001b[1m192s\u001b[0m 937ms/step - accuracy: 0.9436 - loss: 8.2758 - val_accuracy: 0.8750 - val_loss: 7.9788 - learning_rate: 0.0100\n",
            "Epoch 5/10\n",
            "\u001b[1m1/1\u001b[0m \u001b[32m━━━━━━━━━━━━━━━━━━━━\u001b[0m\u001b[37m\u001b[0m \u001b[1m0s\u001b[0m 23ms/step\n",
            "Epoch 5 - Precision: 0.5714, Recall: 1.0000, F1-score: 0.7273\n",
            "\u001b[1m163/163\u001b[0m \u001b[32m━━━━━━━━━━━━━━━━━━━━\u001b[0m\u001b[37m\u001b[0m \u001b[1m200s\u001b[0m 939ms/step - accuracy: 0.9544 - loss: 7.7406 - val_accuracy: 0.6250 - val_loss: 8.0331 - learning_rate: 0.0100\n",
            "Epoch 6/10\n",
            "\u001b[1m1/1\u001b[0m \u001b[32m━━━━━━━━━━━━━━━━━━━━\u001b[0m\u001b[37m\u001b[0m \u001b[1m0s\u001b[0m 34ms/step\n",
            "Epoch 6 - Precision: 1.0000, Recall: 1.0000, F1-score: 1.0000\n",
            "\u001b[1m163/163\u001b[0m \u001b[32m━━━━━━━━━━━━━━━━━━━━\u001b[0m\u001b[37m\u001b[0m \u001b[1m200s\u001b[0m 920ms/step - accuracy: 0.9521 - loss: 7.2595 - val_accuracy: 1.0000 - val_loss: 6.8829 - learning_rate: 0.0100\n",
            "Epoch 7/10\n",
            "\u001b[1m1/1\u001b[0m \u001b[32m━━━━━━━━━━━━━━━━━━━━\u001b[0m\u001b[37m\u001b[0m \u001b[1m0s\u001b[0m 22ms/step\n",
            "Epoch 7 - Precision: 1.0000, Recall: 1.0000, F1-score: 1.0000\n",
            "\u001b[1m163/163\u001b[0m \u001b[32m━━━━━━━━━━━━━━━━━━━━\u001b[0m\u001b[37m\u001b[0m \u001b[1m203s\u001b[0m 921ms/step - accuracy: 0.9723 - loss: 6.7632 - val_accuracy: 1.0000 - val_loss: 6.4760 - learning_rate: 0.0100\n",
            "Epoch 8/10\n",
            "\u001b[1m1/1\u001b[0m \u001b[32m━━━━━━━━━━━━━━━━━━━━\u001b[0m\u001b[37m\u001b[0m \u001b[1m0s\u001b[0m 25ms/step\n",
            "Epoch 8 - Precision: 1.0000, Recall: 1.0000, F1-score: 1.0000\n",
            "\u001b[1m163/163\u001b[0m \u001b[32m━━━━━━━━━━━━━━━━━━━━\u001b[0m\u001b[37m\u001b[0m \u001b[1m200s\u001b[0m 913ms/step - accuracy: 0.9740 - loss: 6.3380 - val_accuracy: 1.0000 - val_loss: 6.1222 - learning_rate: 0.0100\n",
            "Epoch 9/10\n",
            "\u001b[1m1/1\u001b[0m \u001b[32m━━━━━━━━━━━━━━━━━━━━\u001b[0m\u001b[37m\u001b[0m \u001b[1m0s\u001b[0m 32ms/step\n",
            "Epoch 9 - Precision: 0.8889, Recall: 1.0000, F1-score: 0.9412\n",
            "\u001b[1m163/163\u001b[0m \u001b[32m━━━━━━━━━━━━━━━━━━━━\u001b[0m\u001b[37m\u001b[0m \u001b[1m205s\u001b[0m 929ms/step - accuracy: 0.9780 - loss: 5.9346 - val_accuracy: 0.9375 - val_loss: 5.7105 - learning_rate: 0.0100\n",
            "Epoch 10/10\n",
            "\u001b[1m1/1\u001b[0m \u001b[32m━━━━━━━━━━━━━━━━━━━━\u001b[0m\u001b[37m\u001b[0m \u001b[1m0s\u001b[0m 31ms/step\n",
            "Epoch 10 - Precision: 1.0000, Recall: 1.0000, F1-score: 1.0000\n",
            "\u001b[1m163/163\u001b[0m \u001b[32m━━━━━━━━━━━━━━━━━━━━\u001b[0m\u001b[37m\u001b[0m \u001b[1m201s\u001b[0m 931ms/step - accuracy: 0.9805 - loss: 5.5569 - val_accuracy: 1.0000 - val_loss: 5.3461 - learning_rate: 0.0100\n"
          ]
        }
      ]
    },
    {
      "cell_type": "code",
      "source": [
        "test_loss, test_acc = model.evaluate(test_dataset)\n",
        "\n",
        "# Get the true labels and predicted labels for the test dataset\n",
        "y_true = []\n",
        "y_pred = []\n",
        "\n",
        "for x_test, y_test in test_dataset:\n",
        "    # Predict the labels for the test data\n",
        "    y_pred_batch = model.predict(x_test)\n",
        "\n",
        "    # If you're using sigmoid for binary classification, apply a threshold\n",
        "    y_pred_batch = (y_pred_batch > 0.5).astype(int)\n",
        "\n",
        "    # Flatten and extend the lists\n",
        "    y_true.extend(y_test.numpy().flatten())  # Convert true labels to numpy\n",
        "    y_pred.extend(y_pred_batch.flatten())    # Convert predictions to numpy\n",
        "\n",
        "# Convert to numpy arrays\n",
        "y_true = np.array(y_true)\n",
        "y_pred = np.array(y_pred)\n",
        "\n",
        "# Compute precision, recall, and F1-score\n",
        "precision = precision_score(y_true, y_pred)\n",
        "recall = recall_score(y_true, y_pred)\n",
        "f1 = f1_score(y_true, y_pred)\n",
        "\n",
        "# Print the results\n",
        "print(f\"Precision: {precision:.4f}\")\n",
        "print(f\"Recall: {recall:.4f}\")\n",
        "print(f\"F1-Score: {f1:.4f}\")\n",
        "print(f\"Test Accuracy: {test_acc:.2f}\")"
      ],
      "metadata": {
        "id": "nkI9Ja306HxR",
        "colab": {
          "base_uri": "https://localhost:8080/"
        },
        "outputId": "1304f19c-b008-4ef7-de85-f408217cf01d"
      },
      "execution_count": 10,
      "outputs": [
        {
          "output_type": "stream",
          "name": "stdout",
          "text": [
            "\u001b[1m20/20\u001b[0m \u001b[32m━━━━━━━━━━━━━━━━━━━━\u001b[0m\u001b[37m\u001b[0m \u001b[1m121s\u001b[0m 5s/step - accuracy: 0.9243 - loss: 5.5052\n",
            "\u001b[1m1/1\u001b[0m \u001b[32m━━━━━━━━━━━━━━━━━━━━\u001b[0m\u001b[37m\u001b[0m \u001b[1m2s\u001b[0m 2s/step\n",
            "\u001b[1m1/1\u001b[0m \u001b[32m━━━━━━━━━━━━━━━━━━━━\u001b[0m\u001b[37m\u001b[0m \u001b[1m0s\u001b[0m 55ms/step\n",
            "\u001b[1m1/1\u001b[0m \u001b[32m━━━━━━━━━━━━━━━━━━━━\u001b[0m\u001b[37m\u001b[0m \u001b[1m0s\u001b[0m 50ms/step\n",
            "\u001b[1m1/1\u001b[0m \u001b[32m━━━━━━━━━━━━━━━━━━━━\u001b[0m\u001b[37m\u001b[0m \u001b[1m0s\u001b[0m 36ms/step\n",
            "\u001b[1m1/1\u001b[0m \u001b[32m━━━━━━━━━━━━━━━━━━━━\u001b[0m\u001b[37m\u001b[0m \u001b[1m0s\u001b[0m 39ms/step\n",
            "\u001b[1m1/1\u001b[0m \u001b[32m━━━━━━━━━━━━━━━━━━━━\u001b[0m\u001b[37m\u001b[0m \u001b[1m0s\u001b[0m 48ms/step\n",
            "\u001b[1m1/1\u001b[0m \u001b[32m━━━━━━━━━━━━━━━━━━━━\u001b[0m\u001b[37m\u001b[0m \u001b[1m0s\u001b[0m 67ms/step\n",
            "\u001b[1m1/1\u001b[0m \u001b[32m━━━━━━━━━━━━━━━━━━━━\u001b[0m\u001b[37m\u001b[0m \u001b[1m0s\u001b[0m 41ms/step\n",
            "\u001b[1m1/1\u001b[0m \u001b[32m━━━━━━━━━━━━━━━━━━━━\u001b[0m\u001b[37m\u001b[0m \u001b[1m0s\u001b[0m 40ms/step\n",
            "\u001b[1m1/1\u001b[0m \u001b[32m━━━━━━━━━━━━━━━━━━━━\u001b[0m\u001b[37m\u001b[0m \u001b[1m0s\u001b[0m 35ms/step\n",
            "\u001b[1m1/1\u001b[0m \u001b[32m━━━━━━━━━━━━━━━━━━━━\u001b[0m\u001b[37m\u001b[0m \u001b[1m0s\u001b[0m 45ms/step\n",
            "\u001b[1m1/1\u001b[0m \u001b[32m━━━━━━━━━━━━━━━━━━━━\u001b[0m\u001b[37m\u001b[0m \u001b[1m0s\u001b[0m 58ms/step\n",
            "\u001b[1m1/1\u001b[0m \u001b[32m━━━━━━━━━━━━━━━━━━━━\u001b[0m\u001b[37m\u001b[0m \u001b[1m0s\u001b[0m 41ms/step\n",
            "\u001b[1m1/1\u001b[0m \u001b[32m━━━━━━━━━━━━━━━━━━━━\u001b[0m\u001b[37m\u001b[0m \u001b[1m0s\u001b[0m 38ms/step\n",
            "\u001b[1m1/1\u001b[0m \u001b[32m━━━━━━━━━━━━━━━━━━━━\u001b[0m\u001b[37m\u001b[0m \u001b[1m0s\u001b[0m 74ms/step\n",
            "\u001b[1m1/1\u001b[0m \u001b[32m━━━━━━━━━━━━━━━━━━━━\u001b[0m\u001b[37m\u001b[0m \u001b[1m0s\u001b[0m 57ms/step\n",
            "\u001b[1m1/1\u001b[0m \u001b[32m━━━━━━━━━━━━━━━━━━━━\u001b[0m\u001b[37m\u001b[0m \u001b[1m0s\u001b[0m 40ms/step\n",
            "\u001b[1m1/1\u001b[0m \u001b[32m━━━━━━━━━━━━━━━━━━━━\u001b[0m\u001b[37m\u001b[0m \u001b[1m0s\u001b[0m 26ms/step\n",
            "\u001b[1m1/1\u001b[0m \u001b[32m━━━━━━━━━━━━━━━━━━━━\u001b[0m\u001b[37m\u001b[0m \u001b[1m0s\u001b[0m 26ms/step\n",
            "\u001b[1m1/1\u001b[0m \u001b[32m━━━━━━━━━━━━━━━━━━━━\u001b[0m\u001b[37m\u001b[0m \u001b[1m0s\u001b[0m 22ms/step\n",
            "Precision: 0.9125\n",
            "Recall: 0.9897\n",
            "F1-Score: 0.9496\n",
            "Test Accuracy: 0.93\n"
          ]
        }
      ]
    }
  ]
}